{
 "cells": [
  {
   "cell_type": "code",
   "execution_count": 1,
   "metadata": {
    "collapsed": false,
    "deletable": true,
    "editable": true
   },
   "outputs": [],
   "source": [
    "import csv\n",
    "import cv2\n",
    "import numpy as np\n"
   ]
  },
  {
   "cell_type": "code",
   "execution_count": 2,
   "metadata": {
    "collapsed": true
   },
   "outputs": [],
   "source": [
    "def open_csv(filename) :\n",
    "    lines = []\n",
    "    with open(filename) as csvfile :\n",
    "        reader = csv.reader(csvfile)\n",
    "        for line in reader :\n",
    "            lines.append(line)\n",
    "    return lines\n",
    "    "
   ]
  },
  {
   "cell_type": "code",
   "execution_count": 3,
   "metadata": {
    "collapsed": true,
    "deletable": true,
    "editable": true
   },
   "outputs": [],
   "source": [
    "lines = open_csv(\"./data/data/driving_log.csv\")"
   ]
  },
  {
   "cell_type": "code",
   "execution_count": null,
   "metadata": {
    "collapsed": false,
    "deletable": true,
    "editable": true
   },
   "outputs": [],
   "source": [
    "images = []\n",
    "measurements = []\n",
    "corrections = [0,0.2,-0.2]\n",
    "for line in lines[1:] :\n",
    "    for i in range(0,3) :\n",
    "        source_path = line[i]\n",
    "        correction  = corrections[i]\n",
    "        filename = source_path.split('/')[-1]\n",
    "        current_path = './data/data/IMG/' + filename\n",
    "        image = cv2.imread(current_path)\n",
    "        images.append(image)\n",
    "        measurement = float(line[3]) + correction\n",
    "        measurements.append(measurement)"
   ]
  },
  {
   "cell_type": "code",
   "execution_count": null,
   "metadata": {
    "collapsed": true
   },
   "outputs": [],
   "source": [
    "lines = open_csv(\"./data/train_data/driving_log.csv\")"
   ]
  },
  {
   "cell_type": "code",
   "execution_count": null,
   "metadata": {
    "collapsed": true
   },
   "outputs": [],
   "source": [
    "for line in lines[1:] :\n",
    "    for i in range(0,3) :\n",
    "        source_path = line[i]\n",
    "        correction  = corrections[i]\n",
    "        filename = source_path.split('/')[-1]\n",
    "        current_path = './data/train_data/IMG/' + filename\n",
    "        image = cv2.imread(current_path)\n",
    "        images.append(image)\n",
    "        measurement = float(line[3]) + correction\n",
    "        measurements.append(measurement)"
   ]
  },
  {
   "cell_type": "code",
   "execution_count": null,
   "metadata": {
    "collapsed": true
   },
   "outputs": [],
   "source": [
    "augmented_images = []\n",
    "augmented_measurements = []\n",
    "\n",
    "for image,measurement in zip(images,measurements) :\n",
    "    augmented_images.append(image)\n",
    "    augmented_measurements.append(measurement)\n",
    "    augmented_images.append(cv2.flip(image,1))\n",
    "    augmented_measurements.append(measurement * -1.0)\n"
   ]
  },
  {
   "cell_type": "code",
   "execution_count": 42,
   "metadata": {
    "collapsed": false
   },
   "outputs": [
    {
     "name": "stdout",
     "output_type": "stream",
     "text": [
      "1608\n"
     ]
    }
   ],
   "source": [
    "from sklearn.model_selection import train_test_split\n",
    "train_samples, validation_samples = train_test_split(lines[1:], test_size=0.2)\n",
    "print(len(validation_samples))"
   ]
  },
  {
   "cell_type": "code",
   "execution_count": 50,
   "metadata": {
    "collapsed": true
   },
   "outputs": [],
   "source": [
    "from sklearn.utils import shuffle\n",
    "def generator(samples, batch_size=32):\n",
    "    num_samples = len(samples)\n",
    "    while 1: # Loop forever so the generator never terminates\n",
    "        #print(\"Entered\")\n",
    "        shuffle(samples)\n",
    "        for offset in range(0, num_samples, batch_size):\n",
    "            batch_samples = samples[offset:offset+batch_size]\n",
    "            \n",
    "            images = []\n",
    "            measurements = []\n",
    "            corrections = [0,0.2,-0.2]\n",
    "            for line in batch_samples :\n",
    "                for i in range(0,3) :\n",
    "                    source_path = line[i]\n",
    "                    correction  = corrections[i]\n",
    "                    filename = source_path.split('/')[-1]\n",
    "                    current_path = './data/data/IMG/' + filename\n",
    "                    #print(current_path + '\\n')\n",
    "                    image = cv2.imread(current_path)\n",
    "                    images.append(image)\n",
    "                    measurement = float(line[3]) + correction\n",
    "                    measurements.append(measurement)\n",
    "            # trim image to only see section with road\n",
    "            X_train = np.array(images)\n",
    "            y_train = np.array(measurements)\n",
    "            print(X_train.shape)\n",
    "            yield shuffle(X_train, y_train)"
   ]
  },
  {
   "cell_type": "code",
   "execution_count": 51,
   "metadata": {
    "collapsed": true
   },
   "outputs": [],
   "source": [
    "# compile and train the model using the generator function\n",
    "train_generator = generator(train_samples, batch_size=32)\n",
    "validation_generator = generator(validation_samples, batch_size=32)"
   ]
  },
  {
   "cell_type": "code",
   "execution_count": 52,
   "metadata": {
    "collapsed": false
   },
   "outputs": [
    {
     "ename": "AttributeError",
     "evalue": "'generator' object has no attribute 'shape'",
     "output_type": "error",
     "traceback": [
      "\u001b[0;31m---------------------------------------------------------------------------\u001b[0m",
      "\u001b[0;31mAttributeError\u001b[0m                            Traceback (most recent call last)",
      "\u001b[0;32m<ipython-input-52-21a2ace24ee2>\u001b[0m in \u001b[0;36m<module>\u001b[0;34m()\u001b[0m\n\u001b[1;32m      1\u001b[0m \u001b[0mtest\u001b[0m \u001b[0;34m=\u001b[0m \u001b[0mgenerator\u001b[0m\u001b[0;34m(\u001b[0m\u001b[0mtrain_samples\u001b[0m\u001b[0;34m,\u001b[0m \u001b[0mbatch_size\u001b[0m\u001b[0;34m=\u001b[0m\u001b[0;36m32\u001b[0m\u001b[0;34m)\u001b[0m\u001b[0;34m\u001b[0m\u001b[0m\n\u001b[0;32m----> 2\u001b[0;31m \u001b[0mprint\u001b[0m\u001b[0;34m(\u001b[0m\u001b[0mtrain_generator\u001b[0m\u001b[0;34m.\u001b[0m\u001b[0mshape\u001b[0m\u001b[0;34m)\u001b[0m\u001b[0;34m\u001b[0m\u001b[0m\n\u001b[0m",
      "\u001b[0;31mAttributeError\u001b[0m: 'generator' object has no attribute 'shape'"
     ]
    }
   ],
   "source": [
    "test = generator(train_samples, batch_size=32)\n",
    "print(train_generator.shape)"
   ]
  },
  {
   "cell_type": "code",
   "execution_count": 39,
   "metadata": {
    "collapsed": false,
    "deletable": true,
    "editable": true
   },
   "outputs": [
    {
     "ename": "NameError",
     "evalue": "name 'augmented_images' is not defined",
     "output_type": "error",
     "traceback": [
      "\u001b[0;31m---------------------------------------------------------------------------\u001b[0m",
      "\u001b[0;31mNameError\u001b[0m                                 Traceback (most recent call last)",
      "\u001b[0;32m<ipython-input-39-7cc7eb490104>\u001b[0m in \u001b[0;36m<module>\u001b[0;34m()\u001b[0m\n\u001b[1;32m      1\u001b[0m \u001b[0;31m#print(len(augmented_images))\u001b[0m\u001b[0;34m\u001b[0m\u001b[0;34m\u001b[0m\u001b[0m\n\u001b[0;32m----> 2\u001b[0;31m \u001b[0mX_train\u001b[0m \u001b[0;34m=\u001b[0m \u001b[0mnp\u001b[0m\u001b[0;34m.\u001b[0m\u001b[0marray\u001b[0m\u001b[0;34m(\u001b[0m\u001b[0maugmented_images\u001b[0m\u001b[0;34m[\u001b[0m\u001b[0;36m0\u001b[0m\u001b[0;34m:\u001b[0m\u001b[0;36m23000\u001b[0m\u001b[0;34m]\u001b[0m\u001b[0;34m)\u001b[0m\u001b[0;34m\u001b[0m\u001b[0m\n\u001b[0m\u001b[1;32m      3\u001b[0m \u001b[0my_train\u001b[0m \u001b[0;34m=\u001b[0m \u001b[0mnp\u001b[0m\u001b[0;34m.\u001b[0m\u001b[0marray\u001b[0m\u001b[0;34m(\u001b[0m\u001b[0maugmented_measurements\u001b[0m\u001b[0;34m[\u001b[0m\u001b[0;36m0\u001b[0m\u001b[0;34m:\u001b[0m\u001b[0;36m23000\u001b[0m\u001b[0;34m]\u001b[0m\u001b[0;34m)\u001b[0m\u001b[0;34m\u001b[0m\u001b[0m\n\u001b[1;32m      4\u001b[0m \u001b[0mprint\u001b[0m\u001b[0;34m(\u001b[0m\u001b[0mX_train\u001b[0m\u001b[0;34m.\u001b[0m\u001b[0mshape\u001b[0m\u001b[0;34m)\u001b[0m\u001b[0;34m\u001b[0m\u001b[0m\n",
      "\u001b[0;31mNameError\u001b[0m: name 'augmented_images' is not defined"
     ]
    }
   ],
   "source": [
    "#print(len(augmented_images))\n",
    "X_train = np.array(augmented_images[0:23000])\n",
    "y_train = np.array(augmented_measurements[0:23000])\n",
    "print(X_train.shape)"
   ]
  },
  {
   "cell_type": "code",
   "execution_count": 40,
   "metadata": {
    "collapsed": false,
    "deletable": true,
    "editable": true
   },
   "outputs": [],
   "source": [
    "from keras.models import Sequential\n",
    "from keras.layers import Dense, Flatten,Lambda,Cropping2D\n",
    "from keras.layers.convolutional import Convolution2D\n",
    "from keras.layers.pooling import MaxPooling2D"
   ]
  },
  {
   "cell_type": "code",
   "execution_count": null,
   "metadata": {
    "collapsed": false,
    "deletable": true,
    "editable": true
   },
   "outputs": [
    {
     "name": "stdout",
     "output_type": "stream",
     "text": [
      "Epoch 1/6\n",
      "(96, 160, 320, 3)\n",
      "(96, 160, 320, 3)\n",
      "(96, 160, 320, 3)\n",
      "(96, 160, 320, 3)\n",
      "(96, 160, 320, 3)\n",
      "   96/19284 [..............................] - ETA: 174s - loss: 1.1112(96, 160, 320, 3)\n",
      "  192/19284 [..............................] - ETA: 101s - loss: 60.3824(96, 160, 320, 3)\n",
      "(96, 160, 320, 3)\n",
      "  288/19284 [..............................] - ETA: 77s - loss: 41.1492 (96, 160, 320, 3)\n",
      "  384/19284 [..............................] - ETA: 65s - loss: 37.3672(96, 160, 320, 3)\n",
      "  480/19284 [..............................] - ETA: 57s - loss: 39.1637(96, 160, 320, 3)\n",
      "(96, 160, 320, 3)\n",
      "  576/19284 [..............................] - ETA: 52s - loss: 37.7866(96, 160, 320, 3)\n",
      "  672/19284 [>.............................] - ETA: 49s - loss: 33.9763(96, 160, 320, 3)\n",
      "  768/19284 [>.............................] - ETA: 46s - loss: 30.0059(96, 160, 320, 3)\n",
      "(96, 160, 320, 3)\n",
      "  864/19284 [>.............................] - ETA: 44s - loss: 26.6770(96, 160, 320, 3)\n",
      "  960/19284 [>.............................] - ETA: 42s - loss: 24.0772(96, 160, 320, 3)\n",
      " 1056/19284 [>.............................] - ETA: 41s - loss: 22.0354(96, 160, 320, 3)\n",
      "(96, 160, 320, 3)\n",
      " 1152/19284 [>.............................] - ETA: 39s - loss: 20.3716(96, 160, 320, 3)\n",
      " 1248/19284 [>.............................] - ETA: 38s - loss: 18.9548(96, 160, 320, 3)\n",
      " 1344/19284 [=>............................] - ETA: 37s - loss: 17.7107(96, 160, 320, 3)\n",
      "(96, 160, 320, 3)\n",
      " 1440/19284 [=>............................] - ETA: 37s - loss: 16.6065(96, 160, 320, 3)\n",
      " 1536/19284 [=>............................] - ETA: 36s - loss: 15.6176(96, 160, 320, 3)\n",
      " 1632/19284 [=>............................] - ETA: 35s - loss: 14.7314(96, 160, 320, 3)\n",
      " 1728/19284 [=>............................] - ETA: 35s - loss: 13.9362(96, 160, 320, 3)\n",
      " 1824/19284 [=>............................] - ETA: 34s - loss: 13.2173(96, 160, 320, 3)\n",
      "(96, 160, 320, 3)\n",
      " 1920/19284 [=>............................] - ETA: 33s - loss: 12.5662(96, 160, 320, 3)\n",
      " 2016/19284 [==>...........................] - ETA: 33s - loss: 11.9755(96, 160, 320, 3)\n",
      " 2112/19284 [==>...........................] - ETA: 32s - loss: 11.4364(96, 160, 320, 3)\n",
      " 2208/19284 [==>...........................] - ETA: 32s - loss: 10.9447(96, 160, 320, 3)\n",
      " 2304/19284 [==>...........................] - ETA: 32s - loss: 10.4919(96, 160, 320, 3)\n",
      " 2400/19284 [==>...........................] - ETA: 31s - loss: 10.0745(96, 160, 320, 3)\n",
      " 2496/19284 [==>...........................] - ETA: 31s - loss: 9.6893 (96, 160, 320, 3)\n",
      " 2592/19284 [===>..........................] - ETA: 30s - loss: 9.3324(96, 160, 320, 3)\n",
      " 2688/19284 [===>..........................] - ETA: 30s - loss: 9.0007(96, 160, 320, 3)\n",
      " 2784/19284 [===>..........................] - ETA: 30s - loss: 8.6921(96, 160, 320, 3)\n",
      " 2880/19284 [===>..........................] - ETA: 29s - loss: 8.4038(96, 160, 320, 3)\n",
      " 2976/19284 [===>..........................] - ETA: 29s - loss: 8.1343(96, 160, 320, 3)\n",
      " 3072/19284 [===>..........................] - ETA: 29s - loss: 7.8817(96, 160, 320, 3)\n",
      " 3168/19284 [===>..........................] - ETA: 29s - loss: 7.6444(96, 160, 320, 3)\n",
      " 3264/19284 [====>.........................] - ETA: 28s - loss: 7.4208(96, 160, 320, 3)\n",
      " 3360/19284 [====>.........................] - ETA: 28s - loss: 7.2098(96, 160, 320, 3)\n",
      " 3456/19284 [====>.........................] - ETA: 28s - loss: 7.0108(96, 160, 320, 3)\n",
      " 3552/19284 [====>.........................] - ETA: 27s - loss: 6.8225(96, 160, 320, 3)\n",
      " 3648/19284 [====>.........................] - ETA: 27s - loss: 6.6439(96, 160, 320, 3)\n",
      " 3744/19284 [====>.........................] - ETA: 27s - loss: 6.4745(96, 160, 320, 3)\n",
      " 3840/19284 [====>.........................] - ETA: 27s - loss: 6.3134(96, 160, 320, 3)\n",
      " 3936/19284 [=====>........................] - ETA: 26s - loss: 6.1606(96, 160, 320, 3)\n",
      " 4032/19284 [=====>........................] - ETA: 26s - loss: 6.0148(96, 160, 320, 3)\n",
      " 4128/19284 [=====>........................] - ETA: 26s - loss: 5.8759(96, 160, 320, 3)\n",
      " 4224/19284 [=====>........................] - ETA: 26s - loss: 5.7431(96, 160, 320, 3)\n",
      " 4320/19284 [=====>........................] - ETA: 26s - loss: 5.6165(96, 160, 320, 3)\n",
      " 4416/19284 [=====>........................] - ETA: 25s - loss: 5.4952(96, 160, 320, 3)\n",
      " 4512/19284 [======>.......................] - ETA: 25s - loss: 5.3793(96, 160, 320, 3)\n",
      " 4704/19284 [======>.......................] - ETA: 25s - loss: 5.1613(96, 160, 320, 3)\n",
      "(96, 160, 320, 3)\n",
      " 4800/19284 [======>.......................] - ETA: 24s - loss: 5.0591(96, 160, 320, 3)\n",
      " 4896/19284 [======>.......................] - ETA: 24s - loss: 4.9606(96, 160, 320, 3)\n",
      " 4992/19284 [======>.......................] - ETA: 24s - loss: 4.8659(96, 160, 320, 3)\n",
      " 5088/19284 [======>.......................] - ETA: 24s - loss: 4.7746(96, 160, 320, 3)\n",
      " 5184/19284 [=======>......................] - ETA: 24s - loss: 4.6866(96, 160, 320, 3)\n",
      " 5280/19284 [=======>......................] - ETA: 23s - loss: 4.6021(96, 160, 320, 3)\n",
      " 5376/19284 [=======>......................] - ETA: 23s - loss: 4.5204(96, 160, 320, 3)\n",
      " 5472/19284 [=======>......................] - ETA: 23s - loss: 4.4416(96, 160, 320, 3)\n",
      " 5568/19284 [=======>......................] - ETA: 23s - loss: 4.3657(96, 160, 320, 3)\n",
      " 5664/19284 [=======>......................] - ETA: 23s - loss: 4.2923(96, 160, 320, 3)\n",
      " 5760/19284 [=======>......................] - ETA: 22s - loss: 4.2212(96, 160, 320, 3)\n",
      " 5856/19284 [========>.....................] - ETA: 22s - loss: 4.1524(96, 160, 320, 3)\n",
      " 5952/19284 [========>.....................] - ETA: 22s - loss: 4.0859(96, 160, 320, 3)\n",
      " 6048/19284 [========>.....................] - ETA: 22s - loss: 4.0215(96, 160, 320, 3)\n",
      " 6144/19284 [========>.....................] - ETA: 22s - loss: 3.9593(96, 160, 320, 3)\n",
      " 6240/19284 [========>.....................] - ETA: 22s - loss: 3.8986(96, 160, 320, 3)\n",
      " 6336/19284 [========>.....................] - ETA: 21s - loss: 3.8400(96, 160, 320, 3)\n",
      " 6432/19284 [=========>....................] - ETA: 21s - loss: 3.7830(96, 160, 320, 3)\n",
      " 6528/19284 [=========>....................] - ETA: 21s - loss: 3.7279(96, 160, 320, 3)\n",
      " 6624/19284 [=========>....................] - ETA: 21s - loss: 3.6742(96, 160, 320, 3)\n",
      " 6720/19284 [=========>....................] - ETA: 21s - loss: 3.6219(96, 160, 320, 3)\n",
      " 6816/19284 [=========>....................] - ETA: 20s - loss: 3.5713(96, 160, 320, 3)\n",
      " 7008/19284 [=========>....................] - ETA: 20s - loss: 3.4741(96, 160, 320, 3)\n",
      "(96, 160, 320, 3)\n",
      " 7104/19284 [==========>...................] - ETA: 20s - loss: 3.4274(96, 160, 320, 3)\n",
      " 7200/19284 [==========>...................] - ETA: 20s - loss: 3.3821(96, 160, 320, 3)\n",
      " 7296/19284 [==========>...................] - ETA: 20s - loss: 3.3379(96, 160, 320, 3)\n",
      " 7392/19284 [==========>...................] - ETA: 19s - loss: 3.2948(96, 160, 320, 3)\n",
      " 7488/19284 [==========>...................] - ETA: 19s - loss: 3.2529(96, 160, 320, 3)\n",
      " 7584/19284 [==========>...................] - ETA: 19s - loss: 3.2120(96, 160, 320, 3)\n",
      " 7680/19284 [==========>...................] - ETA: 19s - loss: 3.1722(96, 160, 320, 3)\n",
      " 7776/19284 [===========>..................] - ETA: 19s - loss: 3.1333(96, 160, 320, 3)\n",
      " 7872/19284 [===========>..................] - ETA: 18s - loss: 3.0956(96, 160, 320, 3)\n",
      " 7968/19284 [===========>..................] - ETA: 18s - loss: 3.0586(96, 160, 320, 3)\n",
      " 8064/19284 [===========>..................] - ETA: 18s - loss: 3.0224(96, 160, 320, 3)\n",
      " 8160/19284 [===========>..................] - ETA: 18s - loss: 2.9870(96, 160, 320, 3)\n",
      " 8256/19284 [===========>..................] - ETA: 18s - loss: 2.9526(96, 160, 320, 3)\n",
      " 8352/19284 [===========>..................] - ETA: 18s - loss: 2.9190(96, 160, 320, 3)\n",
      " 8448/19284 [============>.................] - ETA: 17s - loss: 2.8861(96, 160, 320, 3)\n",
      " 8544/19284 [============>.................] - ETA: 17s - loss: 2.8539(96, 160, 320, 3)\n",
      " 8640/19284 [============>.................] - ETA: 17s - loss: 2.8225(96, 160, 320, 3)\n",
      " 8736/19284 [============>.................] - ETA: 17s - loss: 2.7917(96, 160, 320, 3)\n",
      " 8832/19284 [============>.................] - ETA: 17s - loss: 2.7616(96, 160, 320, 3)\n",
      " 8928/19284 [============>.................] - ETA: 17s - loss: 2.7320(96, 160, 320, 3)\n",
      " 9024/19284 [=============>................] - ETA: 16s - loss: 2.7032(96, 160, 320, 3)\n",
      " 9120/19284 [=============>................] - ETA: 16s - loss: 2.6750"
     ]
    }
   ],
   "source": [
    "\n",
    "model = Sequential()\n",
    "model.add(Lambda(lambda x : x / 255.0,input_shape=(160,320,3)))\n",
    "model.add(Cropping2D(cropping=((70,25),(0,0))))\n",
    "model.add(Convolution2D(6,5,5,activation='relu'))\n",
    "model.add(MaxPooling2D())\n",
    "model.add(Convolution2D(6,5,5,activation='relu'))\n",
    "model.add(MaxPooling2D())\n",
    "model.add(Flatten())\n",
    "model.add(Dense(120))\n",
    "model.add(Dense(84))\n",
    "model.add(Dense(1))\n",
    "model.compile(loss='mse',optimizer='adam')\n",
    "#model.fit(X_train,y_train,validation_split=0.2,shuffle=True,nb_epoch=6)\n",
    "model.fit_generator(train_generator, samples_per_epoch=\n",
    "            len(train_samples)* 3, validation_data=validation_generator,\n",
    "            nb_val_samples=len(validation_samples), nb_epoch=6)"
   ]
  },
  {
   "cell_type": "code",
   "execution_count": null,
   "metadata": {
    "collapsed": false,
    "deletable": true,
    "editable": true
   },
   "outputs": [],
   "source": [
    "model.save('model.h5')"
   ]
  },
  {
   "cell_type": "code",
   "execution_count": null,
   "metadata": {
    "collapsed": true
   },
   "outputs": [],
   "source": []
  }
 ],
 "metadata": {
  "anaconda-cloud": {},
  "kernelspec": {
   "display_name": "Python [conda env:carnd-term1]",
   "language": "python",
   "name": "conda-env-carnd-term1-py"
  },
  "language_info": {
   "codemirror_mode": {
    "name": "ipython",
    "version": 3
   },
   "file_extension": ".py",
   "mimetype": "text/x-python",
   "name": "python",
   "nbconvert_exporter": "python",
   "pygments_lexer": "ipython3",
   "version": "3.5.2"
  }
 },
 "nbformat": 4,
 "nbformat_minor": 2
}
